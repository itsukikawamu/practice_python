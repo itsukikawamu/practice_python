{
 "cells": [
  {
   "cell_type": "code",
   "execution_count": 160,
   "metadata": {},
   "outputs": [],
   "source": [
    "import pandas as pd\n",
    "import numpy as np\n",
    "import matplotlib.pyplot as plt\n",
    "import seaborn as sns\n",
    "import sklearn\n",
    "import torch\n",
    "import torch.nn as nn\n",
    "import torch.optim as optim\n",
    "from torch.optim.lr_scheduler import StepLR"
   ]
  },
  {
   "cell_type": "code",
   "execution_count": 161,
   "metadata": {},
   "outputs": [],
   "source": [
    "# ランダムシードを設定\n",
    "torch.manual_seed(42)\n",
    "\n",
    "class SimpleNN(nn.Module):\n",
    "    def __init__(self):\n",
    "        super(SimpleNN, self).__init__() #初期化\n",
    "        #中間層と出力層を定義\n",
    "        self.layers = nn.ModuleList([\n",
    "            nn.Linear(3,6),\n",
    "            nn.Linear(6,4),\n",
    "            nn.Linear(4,2)\n",
    "        ])\n",
    "        self.output_layer = nn.Linear(2, 1)\n",
    "        \n",
    "    def forward(self, x): #順伝播\n",
    "        for layer in self.layers: #中間層に入れて活性化関数Reluかませる\n",
    "            x = torch.relu( layer(x) )\n",
    "        x = self.output_layer(x) #出力層\n",
    "        x = x #ここで出力層の活性化関数今回は恒等関数\n",
    "        return x\n",
    "\n",
    "model = SimpleNN()\n",
    "\n",
    "\n",
    "\n"
   ]
  },
  {
   "cell_type": "code",
   "execution_count": 162,
   "metadata": {},
   "outputs": [
    {
     "data": {
      "text/html": [
       "<div>\n",
       "<style scoped>\n",
       "    .dataframe tbody tr th:only-of-type {\n",
       "        vertical-align: middle;\n",
       "    }\n",
       "\n",
       "    .dataframe tbody tr th {\n",
       "        vertical-align: top;\n",
       "    }\n",
       "\n",
       "    .dataframe thead th {\n",
       "        text-align: right;\n",
       "    }\n",
       "</style>\n",
       "<table border=\"1\" class=\"dataframe\">\n",
       "  <thead>\n",
       "    <tr style=\"text-align: right;\">\n",
       "      <th></th>\n",
       "      <th>チョコ120円(個)</th>\n",
       "      <th>アメ50円(個)</th>\n",
       "      <th>ガム150円(個)</th>\n",
       "      <th>合計金額(円)</th>\n",
       "    </tr>\n",
       "  </thead>\n",
       "  <tbody>\n",
       "    <tr>\n",
       "      <th>0</th>\n",
       "      <td>6</td>\n",
       "      <td>3</td>\n",
       "      <td>7</td>\n",
       "      <td>1920</td>\n",
       "    </tr>\n",
       "    <tr>\n",
       "      <th>1</th>\n",
       "      <td>4</td>\n",
       "      <td>6</td>\n",
       "      <td>9</td>\n",
       "      <td>2130</td>\n",
       "    </tr>\n",
       "    <tr>\n",
       "      <th>2</th>\n",
       "      <td>2</td>\n",
       "      <td>6</td>\n",
       "      <td>7</td>\n",
       "      <td>1590</td>\n",
       "    </tr>\n",
       "    <tr>\n",
       "      <th>3</th>\n",
       "      <td>4</td>\n",
       "      <td>3</td>\n",
       "      <td>7</td>\n",
       "      <td>1680</td>\n",
       "    </tr>\n",
       "    <tr>\n",
       "      <th>4</th>\n",
       "      <td>7</td>\n",
       "      <td>2</td>\n",
       "      <td>5</td>\n",
       "      <td>1690</td>\n",
       "    </tr>\n",
       "  </tbody>\n",
       "</table>\n",
       "</div>"
      ],
      "text/plain": [
       "   チョコ120円(個)  アメ50円(個)  ガム150円(個)  合計金額(円)\n",
       "0           6         3          7     1920\n",
       "1           4         6          9     2130\n",
       "2           2         6          7     1590\n",
       "3           4         3          7     1680\n",
       "4           7         2          5     1690"
      ]
     },
     "execution_count": 162,
     "metadata": {},
     "output_type": "execute_result"
    }
   ],
   "source": [
    "df_train = pd.read_csv(\"purchase.csv\")\n",
    "\n",
    "df_train.head()"
   ]
  },
  {
   "cell_type": "code",
   "execution_count": 163,
   "metadata": {},
   "outputs": [],
   "source": [
    "X_train = df_train.drop(columns=[\"合計金額(円)\"]).values\n",
    "Y_train = df_train[[\"合計金額(円)\"]].values\n",
    "\n"
   ]
  },
  {
   "cell_type": "code",
   "execution_count": 164,
   "metadata": {},
   "outputs": [],
   "source": [
    "#from sklearn.preprocessing import StandardScaler\n",
    "\n",
    "#scaler_X = StandardScaler()\n",
    "#scaler_Y = StandardScaler()\n",
    "#X_train = torch.tensor(scaler_X.fit_transform(X_train), dtype=torch.float32)\n",
    "#Y_train = torch.tensor(scaler_Y.fit_transform(Y_train), dtype=torch.float32)\n"
   ]
  },
  {
   "cell_type": "code",
   "execution_count": null,
   "metadata": {},
   "outputs": [],
   "source": [
    "\n"
   ]
  },
  {
   "cell_type": "code",
   "execution_count": 165,
   "metadata": {},
   "outputs": [],
   "source": [
    "X_train = torch.tensor(X_train, dtype=torch.float32)\n",
    "Y_train = torch.tensor(Y_train, dtype=torch.float32)\n"
   ]
  },
  {
   "cell_type": "code",
   "execution_count": 166,
   "metadata": {},
   "outputs": [
    {
     "name": "stdout",
     "output_type": "stream",
     "text": [
      "Epoch [10/1000], Loss: 1715990.8750\n",
      "Epoch [20/1000], Loss: 370827.3125\n",
      "Epoch [30/1000], Loss: 163076.7500\n",
      "Epoch [40/1000], Loss: 46081.1562\n",
      "Epoch [50/1000], Loss: 12074.5156\n",
      "Epoch [60/1000], Loss: 2102.8286\n",
      "Epoch [70/1000], Loss: 2281.6265\n",
      "Epoch [80/1000], Loss: 1912.0775\n",
      "Epoch [90/1000], Loss: 938.8922\n",
      "Epoch [100/1000], Loss: 810.5061\n",
      "Epoch [110/1000], Loss: 739.3097\n",
      "Epoch [120/1000], Loss: 627.6992\n",
      "Epoch [130/1000], Loss: 575.6696\n",
      "Epoch [140/1000], Loss: 515.5178\n",
      "Epoch [150/1000], Loss: 464.9977\n",
      "Epoch [160/1000], Loss: 416.2054\n",
      "Epoch [170/1000], Loss: 371.6796\n",
      "Epoch [180/1000], Loss: 330.3993\n",
      "Epoch [190/1000], Loss: 292.5015\n",
      "Epoch [200/1000], Loss: 257.8708\n",
      "Epoch [210/1000], Loss: 226.3874\n",
      "Epoch [220/1000], Loss: 197.9217\n",
      "Epoch [230/1000], Loss: 172.3180\n",
      "Epoch [240/1000], Loss: 149.4074\n",
      "Epoch [250/1000], Loss: 129.0079\n",
      "Epoch [260/1000], Loss: 110.9350\n",
      "Epoch [270/1000], Loss: 95.0037\n",
      "Epoch [280/1000], Loss: 81.0294\n",
      "Epoch [290/1000], Loss: 68.8398\n",
      "Epoch [300/1000], Loss: 58.2681\n",
      "Epoch [310/1000], Loss: 49.1297\n",
      "Epoch [320/1000], Loss: 41.2619\n",
      "Epoch [330/1000], Loss: 34.5174\n",
      "Epoch [340/1000], Loss: 28.7724\n",
      "Epoch [350/1000], Loss: 23.8961\n",
      "Epoch [360/1000], Loss: 19.7809\n",
      "Epoch [370/1000], Loss: 16.3162\n",
      "Epoch [380/1000], Loss: 13.4117\n",
      "Epoch [390/1000], Loss: 10.9864\n",
      "Epoch [400/1000], Loss: 8.9692\n",
      "Epoch [410/1000], Loss: 7.2991\n",
      "Epoch [420/1000], Loss: 5.9223\n",
      "Epoch [430/1000], Loss: 4.7920\n",
      "Epoch [440/1000], Loss: 3.8677\n",
      "Epoch [450/1000], Loss: 3.1154\n",
      "Epoch [460/1000], Loss: 2.5053\n",
      "Epoch [470/1000], Loss: 2.0127\n",
      "Epoch [480/1000], Loss: 1.6164\n",
      "Epoch [490/1000], Loss: 1.2991\n",
      "Epoch [500/1000], Loss: 1.0459\n",
      "Epoch [510/1000], Loss: 0.8448\n",
      "Epoch [520/1000], Loss: 0.6856\n",
      "Epoch [530/1000], Loss: 0.5600\n",
      "Epoch [540/1000], Loss: 0.4615\n",
      "Epoch [550/1000], Loss: 0.3845\n",
      "Epoch [560/1000], Loss: 0.3244\n",
      "Epoch [570/1000], Loss: 0.2778\n",
      "Epoch [580/1000], Loss: 0.2418\n",
      "Epoch [590/1000], Loss: 0.2141\n",
      "Epoch [600/1000], Loss: 0.1928\n",
      "Epoch [610/1000], Loss: 0.1765\n",
      "Epoch [620/1000], Loss: 0.1641\n",
      "Epoch [630/1000], Loss: 0.1547\n",
      "Epoch [640/1000], Loss: 0.1476\n",
      "Epoch [650/1000], Loss: 0.1422\n",
      "Epoch [660/1000], Loss: 0.1382\n",
      "Epoch [670/1000], Loss: 0.1351\n",
      "Epoch [680/1000], Loss: 0.1329\n",
      "Epoch [690/1000], Loss: 0.1312\n",
      "Epoch [700/1000], Loss: 0.1299\n",
      "Epoch [710/1000], Loss: 0.1289\n",
      "Epoch [720/1000], Loss: 0.1282\n",
      "Epoch [730/1000], Loss: 0.1277\n",
      "Epoch [740/1000], Loss: 0.1273\n",
      "Epoch [750/1000], Loss: 0.1269\n",
      "Epoch [760/1000], Loss: 0.1267\n",
      "Epoch [770/1000], Loss: 0.1265\n",
      "Epoch [780/1000], Loss: 0.1263\n",
      "Epoch [790/1000], Loss: 0.1262\n",
      "Epoch [800/1000], Loss: 0.1260\n",
      "Epoch [810/1000], Loss: 0.1259\n",
      "Epoch [820/1000], Loss: 0.1258\n",
      "Epoch [830/1000], Loss: 0.1257\n",
      "Epoch [840/1000], Loss: 0.1256\n",
      "Epoch [850/1000], Loss: 0.1255\n",
      "Epoch [860/1000], Loss: 0.1255\n",
      "Epoch [870/1000], Loss: 0.1254\n",
      "Epoch [880/1000], Loss: 0.1253\n",
      "Epoch [890/1000], Loss: 0.1252\n",
      "Epoch [900/1000], Loss: 0.1251\n",
      "Epoch [910/1000], Loss: 0.1250\n",
      "Epoch [920/1000], Loss: 0.1249\n",
      "Epoch [930/1000], Loss: 0.1248\n",
      "Epoch [940/1000], Loss: 0.1248\n",
      "Epoch [950/1000], Loss: 0.1247\n",
      "Epoch [960/1000], Loss: 0.1246\n",
      "Epoch [970/1000], Loss: 0.1245\n",
      "Epoch [980/1000], Loss: 0.1244\n",
      "Epoch [990/1000], Loss: 0.1243\n",
      "Epoch [1000/1000], Loss: 0.1242\n"
     ]
    }
   ],
   "source": [
    "# 学習ループ\n",
    "\n",
    "optimizer = optim.Adam(model.parameters(), lr=0.1) #更新は確率的勾配降下法で\n",
    "criterion = nn.MSELoss() #損失関数は二乗誤差関数\n",
    "num_epochs = 1000\n",
    "for epoch in range(num_epochs):\n",
    "    # 順伝播\n",
    "    outputs = model(X_train)\n",
    "    loss = criterion(outputs, Y_train)\n",
    "\n",
    "    # 勾配をリセット\n",
    "    optimizer.zero_grad()\n",
    "\n",
    "    # 逆伝播\n",
    "    loss.backward()\n",
    "\n",
    "    # パラメータの更新\n",
    "    optimizer.step()\n",
    "    \n",
    "    # 10エポックごとに損失を表示\n",
    "    if (epoch + 1) % 10 == 0:\n",
    "        print(f'Epoch [{epoch + 1}/{num_epochs}], Loss: {loss.item():.4f}')\n"
   ]
  },
  {
   "cell_type": "code",
   "execution_count": 167,
   "metadata": {},
   "outputs": [],
   "source": [
    "df_test = pd.read_csv(\"purchase_test.csv\")\n",
    "X_test = df_test.drop(columns=[\"合計金額(円)\"]).values\n",
    "Y_test = df_test[[\"合計金額(円)\"]].values\n",
    "X_test = torch.tensor(X_test, dtype=torch.float32)\n",
    "Y_test = torch.tensor(Y_test, dtype=torch.float32)"
   ]
  },
  {
   "cell_type": "code",
   "execution_count": null,
   "metadata": {},
   "outputs": [
    {
     "name": "stdout",
     "output_type": "stream",
     "text": [
      "tensor(0.3723)\n",
      "Test Loss (MSE): 0.3723\n"
     ]
    }
   ],
   "source": [
    "model.eval()\n",
    "with torch.no_grad():\n",
    "    test_outputs = model(X_test)\n",
    "    test_loss = criterion(test_outputs, Y_test)\n",
    "    \n",
    "    # 精度の計算 (例: 平均二乗誤差やR^2スコア)\n",
    "    mse = test_loss.item()\n",
    "    print(f'Test Loss (MSE): {mse:.4f}')"
   ]
  },
  {
   "cell_type": "code",
   "execution_count": 169,
   "metadata": {},
   "outputs": [
    {
     "name": "stdout",
     "output_type": "stream",
     "text": [
      "R^2 Score: 1.0000\n"
     ]
    }
   ],
   "source": [
    "from sklearn.metrics import r2_score\n",
    "\n",
    "# R^2スコアの計算\n",
    "r2 = r2_score(Y_test.numpy(), test_outputs.numpy())\n",
    "print(f'R^2 Score: {r2:.4f}')\n"
   ]
  }
 ],
 "metadata": {
  "kernelspec": {
   "display_name": "myvenv312",
   "language": "python",
   "name": "python3"
  },
  "language_info": {
   "codemirror_mode": {
    "name": "ipython",
    "version": 3
   },
   "file_extension": ".py",
   "mimetype": "text/x-python",
   "name": "python",
   "nbconvert_exporter": "python",
   "pygments_lexer": "ipython3",
   "version": "3.12.7"
  }
 },
 "nbformat": 4,
 "nbformat_minor": 2
}
