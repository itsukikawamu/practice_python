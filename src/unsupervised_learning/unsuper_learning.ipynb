{
 "cells": [
  {
   "cell_type": "code",
   "execution_count": null,
   "metadata": {},
   "outputs": [
    {
     "ename": "",
     "evalue": "",
     "output_type": "error",
     "traceback": [
      "\u001b[1;31m'myenv (Python 3.12.7)' でセルを実行するには、 ipykernel パッケージが必要です。\n",
      "\u001b[1;31m次のコマンドを実行して、'ipykernel' を Python 環境にインストールします。\n",
      "\u001b[1;31mコマンド: 'c:/Users/kawam/Documents/IT勉強/practice_pythondata/myenv/Scripts/python.exe -m pip install ipykernel -U --force-reinstall'"
     ]
    }
   ],
   "source": [
    "\n",
    "import numpy as np\n",
    "import pandas as pd\n",
    "import seaborn as sns\n",
    "import matplotlib.pyplot as plt"
   ]
  },
  {
   "cell_type": "code",
   "execution_count": null,
   "metadata": {},
   "outputs": [],
   "source": [
    "df_skill = pd.read_csv(\"skill_level.csv\", index_col=0)\n",
    "df_skill"
   ]
  },
  {
   "cell_type": "code",
   "execution_count": null,
   "metadata": {},
   "outputs": [],
   "source": [
    "from sklearn.decomposition import PCA\n",
    "model_dim = PCA(n_components=2)\n",
    "vecs_list = model_dim.fit_transform(df_skill)\n",
    "vecs_list"
   ]
  },
  {
   "cell_type": "code",
   "execution_count": null,
   "metadata": {},
   "outputs": [],
   "source": [
    "model_dim.explained_variance_ratio_"
   ]
  },
  {
   "cell_type": "code",
   "execution_count": null,
   "metadata": {},
   "outputs": [],
   "source": [
    "X=vecs_list[:,0]\n",
    "Y=vecs_list[:,1]\n",
    "\n",
    "plt.rcParams[\"font.family\"] = \"Yu Gothic\"\n",
    "plt.rcParams[\"font.size\"] = 15\n",
    "plt.figure(figsize=(5, 5))\n",
    "\n",
    "sns.scatterplot(x=X,y=Y)\n",
    "for i, (pointname_x, pointname_y) in enumerate(zip(X, Y)):\n",
    "    plt.annotate(df_skill.index[i], xy=(pointname_x, pointname_y))"
   ]
  },
  {
   "cell_type": "code",
   "execution_count": null,
   "metadata": {},
   "outputs": [],
   "source": [
    "df_skill.sum(axis=1).sort_values()"
   ]
  },
  {
   "cell_type": "code",
   "execution_count": null,
   "metadata": {},
   "outputs": [],
   "source": [
    "X_comp, Y_comp = model_dim.components_\n",
    "\n",
    "sns.scatterplot(x=X_comp, y=Y_comp)\n",
    "for i, (pointname_x, pointname_y) in enumerate(zip(X_comp, Y_comp)):\n",
    "    plt.annotate(df_skill.columns[i], xy=(pointname_x, pointname_y))"
   ]
  },
  {
   "cell_type": "code",
   "execution_count": null,
   "metadata": {},
   "outputs": [],
   "source": [
    "import umap.umap_ as umap\n",
    "from scipy.sparse.csgraph import connected_components\n",
    "\n",
    "model_dim = umap.UMAP(n_components=2,  n_neighbors=7)\n",
    "umap_result = model_dim.fit_transform(df_skill)\n",
    "\n",
    "X=umap_result[:,0]\n",
    "Y=umap_result[:,1]\n",
    "\n",
    "plt.rcParams[\"font.family\"] = \"Yu Gothic\"\n",
    "plt.rcParams[\"font.size\"] = 15\n",
    "plt.figure(figsize=(5, 5))\n",
    "\n",
    "sns.scatterplot(x=X,y=Y)\n",
    "for i, (pointname_x, pointname_y) in enumerate(zip(X, Y)):\n",
    "    plt.annotate(df_skill.index[i], xy=(pointname_x, pointname_y))"
   ]
  },
  {
   "cell_type": "code",
   "execution_count": null,
   "metadata": {},
   "outputs": [],
   "source": [
    "#クラスタリング\n",
    "from scipy.cluster.hierarchy import linkage,dendrogram,fcluster"
   ]
  },
  {
   "cell_type": "code",
   "execution_count": null,
   "metadata": {},
   "outputs": [],
   "source": [
    "linkage_result = linkage(df_skill, method=\"ward\") #single, complete, averageも\n",
    "dendrogram(linkage_result, labels=df_skill.index)\n",
    "plt.show()"
   ]
  },
  {
   "cell_type": "code",
   "execution_count": null,
   "metadata": {},
   "outputs": [],
   "source": [
    "from sklearn.cluster import KMeans\n",
    "\n",
    "vec = KMeans(n_clusters=4)\n",
    "group_num = vec.fit_predict(df_skill)"
   ]
  },
  {
   "cell_type": "code",
   "execution_count": null,
   "metadata": {},
   "outputs": [],
   "source": [
    "df_skill2 = df_skill.copy()\n",
    "df_skill2[\"グループ名\"] = group_num\n",
    "df_skill2.groupby(\"グループ名\").mean()"
   ]
  },
  {
   "cell_type": "code",
   "execution_count": null,
   "metadata": {},
   "outputs": [],
   "source": [
    "PCAresult = PCA(n_components=2)\n",
    "vecs_list= PCAresult.fit_transform(df_skill)\n",
    "X= vecs_list[:,0]\n",
    "Y= vecs_list[:,1]*-1\n",
    "\n",
    "sns.scatterplot(x=X,y=Y, hue=group_num, \n",
    "                palette=\"Set1\")"
   ]
  },
  {
   "cell_type": "code",
   "execution_count": null,
   "metadata": {},
   "outputs": [],
   "source": [
    "from sklearn.decomposition import TruncatedSVD\n",
    "SVDresult = TruncatedSVD(n_components=2)\n",
    "vecs_list= SVDresult.fit_transform(df_skill)\n",
    "df_skill2[\"SVD_X\"]= vecs_list[:,0]\n",
    "df_skill2[\"SVD_Y\"]= vecs_list[:,1]\n",
    "df_skill2.head()"
   ]
  },
  {
   "cell_type": "code",
   "execution_count": null,
   "metadata": {},
   "outputs": [],
   "source": [
    "sns.scatterplot(data=df_skill2, \n",
    "                x=\"SVD_X\",y=\"SVD_Y\", hue=\"グループ名\",\n",
    "                palette=\"plasma\")"
   ]
  },
  {
   "cell_type": "code",
   "execution_count": null,
   "metadata": {},
   "outputs": [],
   "source": []
  },
  {
   "cell_type": "code",
   "execution_count": null,
   "metadata": {},
   "outputs": [],
   "source": []
  }
 ],
 "metadata": {
  "kernelspec": {
   "display_name": "myenv",
   "language": "python",
   "name": "python3"
  },
  "language_info": {
   "codemirror_mode": {
    "name": "ipython",
    "version": 3
   },
   "file_extension": ".py",
   "mimetype": "text/x-python",
   "name": "python",
   "nbconvert_exporter": "python",
   "pygments_lexer": "ipython3",
   "version": "3.12.7"
  }
 },
 "nbformat": 4,
 "nbformat_minor": 2
}
