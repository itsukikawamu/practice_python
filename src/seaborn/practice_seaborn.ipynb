{
 "cells": [
  {
   "cell_type": "code",
   "execution_count": 1,
   "metadata": {},
   "outputs": [
    {
     "ename": "ModuleNotFoundError",
     "evalue": "No module named 'pandas'",
     "output_type": "error",
     "traceback": [
      "\u001b[1;31m---------------------------------------------------------------------------\u001b[0m",
      "\u001b[1;31mModuleNotFoundError\u001b[0m                       Traceback (most recent call last)",
      "Cell \u001b[1;32mIn[1], line 1\u001b[0m\n\u001b[1;32m----> 1\u001b[0m \u001b[38;5;28;01mimport\u001b[39;00m \u001b[38;5;21;01mpandas\u001b[39;00m \u001b[38;5;28;01mas\u001b[39;00m \u001b[38;5;21;01mpd\u001b[39;00m\n\u001b[0;32m      2\u001b[0m \u001b[38;5;28;01mimport\u001b[39;00m \u001b[38;5;21;01mmatplotlib\u001b[39;00m\u001b[38;5;21;01m.\u001b[39;00m\u001b[38;5;21;01mpyplot\u001b[39;00m \u001b[38;5;28;01mas\u001b[39;00m \u001b[38;5;21;01mplt\u001b[39;00m\n\u001b[0;32m      3\u001b[0m \u001b[38;5;28;01mimport\u001b[39;00m \u001b[38;5;21;01mseaborn\u001b[39;00m \u001b[38;5;28;01mas\u001b[39;00m \u001b[38;5;21;01msns\u001b[39;00m\n",
      "\u001b[1;31mModuleNotFoundError\u001b[0m: No module named 'pandas'"
     ]
    }
   ],
   "source": [
    "import pandas as pd\n",
    "import matplotlib.pyplot as plt\n",
    "import seaborn as sns\n"
   ]
  },
  {
   "cell_type": "code",
   "execution_count": null,
   "metadata": {},
   "outputs": [],
   "source": [
    "df_weather = pd.read_csv(\"weather.csv\", index_col=\"年月日\", parse_dates=True)"
   ]
  },
  {
   "cell_type": "code",
   "execution_count": null,
   "metadata": {},
   "outputs": [],
   "source": [
    "df_weather.head()"
   ]
  },
  {
   "cell_type": "code",
   "execution_count": null,
   "metadata": {},
   "outputs": [],
   "source": [
    "plt.rcParams[\"font.family\"] = \"Yu Gothic\"\n",
    "plt.rcParams[\"font.size\"] = 15\n",
    "plt.figure(figsize=(15, 5))\n",
    "sns.lineplot(data=df_weather)\n",
    "plt.savefig(\"折れ線.png\")"
   ]
  },
  {
   "cell_type": "code",
   "execution_count": null,
   "metadata": {},
   "outputs": [],
   "source": [
    "df_score = pd.read_csv(\"test_score.csv\").sort_values(\"クラス\")\n",
    "df_score.head()"
   ]
  },
  {
   "cell_type": "code",
   "execution_count": null,
   "metadata": {},
   "outputs": [],
   "source": [
    "plt.rcParams[\"font.family\"] = \"Yu Gothic\"\n",
    "plt.rcParams[\"font.size\"] = 11\n",
    "plt.figure(figsize=(15, 5))\n",
    "sns.barplot(data = df_score, x=\"名前\", y=\"社会\", \n",
    "            hue=\"クラス\", hue_order=[\"1組\",\"2組\",\"3組\"])"
   ]
  },
  {
   "cell_type": "code",
   "execution_count": null,
   "metadata": {},
   "outputs": [],
   "source": [
    "sns.histplot(data=df_score, \n",
    "             x=\"社会\", binrange=(0, 100), bins = 10,\n",
    "             hue=\"クラス\", hue_order=[\"1組\",\"2組\",\"3組\"], multiple=\"dodge\")"
   ]
  },
  {
   "cell_type": "code",
   "execution_count": null,
   "metadata": {},
   "outputs": [],
   "source": [
    "plt.xlim(20, 100)\n",
    "plt.ylim(20, 100)\n",
    "sns.scatterplot(data=df_score,\n",
    "                x=\"国語\", y=\"算数\",\n",
    "                hue=\"クラス\", hue_order=[\"1組\",\"2組\",\"3組\"],\n",
    "                style=\"性別\", markers={\"男性\":\"v\", \"女性\":\"o\"})"
   ]
  },
  {
   "cell_type": "code",
   "execution_count": null,
   "metadata": {},
   "outputs": [],
   "source": [
    "\n",
    "sns.lmplot(data=df_score,\n",
    "                x=\"国語\", y=\"算数\",\n",
    "                hue=\"クラス\", hue_order=[\"1組\",\"2組\",\"3組\"],\n",
    "                )"
   ]
  },
  {
   "cell_type": "code",
   "execution_count": null,
   "metadata": {},
   "outputs": [],
   "source": [
    "plt.xlim(20, 100)\n",
    "plt.ylim(20, 100)\n",
    "sns.kdeplot(data=df_score,\n",
    "                x=\"国語\", y=\"算数\",\n",
    "                hue=\"クラス\", hue_order=[\"1組\",\"2組\",\"3組\"],\n",
    "                )"
   ]
  },
  {
   "cell_type": "code",
   "execution_count": null,
   "metadata": {},
   "outputs": [],
   "source": [
    "sns.jointplot(data=df_score,\n",
    "                x=\"国語\", y=\"算数\",\n",
    "                hue=\"クラス\", hue_order=[\"1組\",\"2組\",\"3組\"],\n",
    "                )"
   ]
  },
  {
   "cell_type": "code",
   "execution_count": null,
   "metadata": {},
   "outputs": [],
   "source": [
    "sns.pairplot(data=df_score, hue=\"クラス\")"
   ]
  },
  {
   "cell_type": "code",
   "execution_count": null,
   "metadata": {},
   "outputs": [],
   "source": [
    "plt.figure(figsize=(5, 5))\n",
    "sns.boxplot(data=df_score)"
   ]
  },
  {
   "cell_type": "code",
   "execution_count": null,
   "metadata": {},
   "outputs": [],
   "source": [
    "df_score2=df_score.melt([\"名前\",\"クラス\",\"性別\"], var_name=\"科目\", value_name=\"点数\")\n",
    "df_score2"
   ]
  },
  {
   "cell_type": "code",
   "execution_count": null,
   "metadata": {},
   "outputs": [],
   "source": [
    "plt.figure(figsize=(5, 5))\n",
    "sns.boxplot(data=df_score2,\n",
    "            x=\"科目\", y=\"点数\",\n",
    "            hue=\"クラス\")"
   ]
  },
  {
   "cell_type": "code",
   "execution_count": null,
   "metadata": {},
   "outputs": [],
   "source": [
    "plt.figure(figsize=(13, 7))\n",
    "sns.violinplot(data=df_score2,\n",
    "            x=\"科目\", y=\"点数\",\n",
    "            hue=\"クラス\")"
   ]
  },
  {
   "cell_type": "code",
   "execution_count": null,
   "metadata": {},
   "outputs": [],
   "source": [
    "plt.figure(figsize=(13, 7))\n",
    "sns.stripplot(data=df_score2,\n",
    "            x=\"科目\", y=\"点数\",\n",
    "            hue=\"クラス\")"
   ]
  },
  {
   "cell_type": "code",
   "execution_count": null,
   "metadata": {},
   "outputs": [],
   "source": [
    "plt.figure(figsize=(13, 7))\n",
    "sns.swarmplot(data=df_score2,\n",
    "            x=\"科目\", y=\"点数\",\n",
    "            hue=\"クラス\")"
   ]
  },
  {
   "cell_type": "code",
   "execution_count": null,
   "metadata": {},
   "outputs": [],
   "source": [
    "numeric_df = df_score.select_dtypes(include='number')\n",
    "numeric_df.corr()\n"
   ]
  },
  {
   "cell_type": "code",
   "execution_count": null,
   "metadata": {},
   "outputs": [],
   "source": [
    "sns.heatmap(numeric_df.corr(),\n",
    "            cmap=\"Blues\",\n",
    "            annot=True,\n",
    "            fmt=\".3f\")"
   ]
  },
  {
   "cell_type": "code",
   "execution_count": null,
   "metadata": {},
   "outputs": [],
   "source": [
    "plt.rcParams[\"font.family\"] = \"Yu Gothic\"\n",
    "plt.rcParams[\"font.size\"] = 20\n",
    "sns.clustermap(numeric_df.corr(),\n",
    "            cmap=\"Blues\",\n",
    "            annot=True,\n",
    "            fmt=\".3f\")"
   ]
  },
  {
   "cell_type": "code",
   "execution_count": null,
   "metadata": {},
   "outputs": [],
   "source": []
  }
 ],
 "metadata": {
  "kernelspec": {
   "display_name": "Python 3",
   "language": "python",
   "name": "python3"
  },
  "language_info": {
   "codemirror_mode": {
    "name": "ipython",
    "version": 3
   },
   "file_extension": ".py",
   "mimetype": "text/x-python",
   "name": "python",
   "nbconvert_exporter": "python",
   "pygments_lexer": "ipython3",
   "version": "3.12.3"
  }
 },
 "nbformat": 4,
 "nbformat_minor": 2
}
